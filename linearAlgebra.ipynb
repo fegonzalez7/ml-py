{
 "cells": [
  {
   "cell_type": "markdown",
   "metadata": {},
   "source": [
    "### Tensores"
   ]
  },
  {
   "cell_type": "code",
   "execution_count": 1,
   "metadata": {},
   "outputs": [],
   "source": [
    "import numpy as np\n",
    "import matplotlib.pyplot as plt"
   ]
  },
  {
   "cell_type": "code",
   "execution_count": 40,
   "metadata": {},
   "outputs": [
    {
     "name": "stdout",
     "output_type": "stream",
     "text": [
      "[[[  1   1   1]\n",
      "  [  2   2   2]\n",
      "  [  3   3   3]]\n",
      "\n",
      " [[111 111 111]\n",
      "  [112 112 112]\n",
      "  [113 113 113]]\n",
      "\n",
      " [[211 211 211]\n",
      "  [212 212 212]\n",
      "  [213 213 213]]]\n"
     ]
    }
   ],
   "source": [
    "tensor = np.array([\n",
    "    [[1,1,1],[2,2,2],[3,3,3]],\n",
    "    [[111,111,111],[112,112,112],[113,113,113]],\n",
    "    [[211,211,211],[212,212,212],[213,213,213]]]\n",
    ")\n",
    "print(tensor)"
   ]
  },
  {
   "cell_type": "code",
   "execution_count": 23,
   "metadata": {},
   "outputs": [
    {
     "data": {
      "image/png": "[encoded data removed]",
      "text/plain": [
       "<Figure size 432x288 with 1 Axes>"
      ]
     },
     "metadata": {
      "needs_background": "light"
     },
     "output_type": "display_data"
    }
   ],
   "source": [
    "plt.imshow(tensor, interpolation='nearest')\n",
    "plt.show()"
   ]
  },
  {
   "cell_type": "code",
   "execution_count": 24,
   "metadata": {},
   "outputs": [
    {
     "name": "stdout",
     "output_type": "stream",
     "text": [
      "(3, 3, 3)\n",
      "27\n",
      "3\n"
     ]
    }
   ],
   "source": [
    "print(tensor.shape) # Orden\n",
    "print(tensor.size) # Cantidad total de elementos\n",
    "print(len(tensor)) # Dimension del primer varray\n"
   ]
  },
  {
   "cell_type": "code",
   "execution_count": 26,
   "metadata": {},
   "outputs": [
    {
     "name": "stdout",
     "output_type": "stream",
     "text": [
      "[1 2 3] (3,)\n",
      "[1 2 3] (3,)\n"
     ]
    }
   ],
   "source": [
    "vec = np.array([1,2,3])\n",
    "print(vec,vec.shape)\n",
    "print(vec.T,vec.T.shape)"
   ]
  },
  {
   "cell_type": "code",
   "execution_count": 41,
   "metadata": {},
   "outputs": [
    {
     "name": "stdout",
     "output_type": "stream",
     "text": [
      "[[[  1 111 211]\n",
      "  [  2 112 212]\n",
      "  [  3 113 213]]\n",
      "\n",
      " [[  1 111 211]\n",
      "  [  2 112 212]\n",
      "  [  3 113 213]]\n",
      "\n",
      " [[  1 111 211]\n",
      "  [  2 112 212]\n",
      "  [  3 113 213]]]\n"
     ]
    }
   ],
   "source": [
    "print(tensor.T)"
   ]
  },
  {
   "cell_type": "code",
   "execution_count": 37,
   "metadata": {},
   "outputs": [
    {
     "name": "stdout",
     "output_type": "stream",
     "text": [
      "1\n"
     ]
    }
   ],
   "source": [
    "print(tensor[0,0,1])"
   ]
  },
  {
   "cell_type": "markdown",
   "metadata": {},
   "source": [
    "### Producto de matrices\n",
    "Para hacer el producto de matrices, se puede extender el producto inuerno con la funcion dot o emplear malmut"
   ]
  },
  {
   "cell_type": "code",
   "execution_count": 44,
   "metadata": {},
   "outputs": [],
   "source": [
    "vec = np.array([2,3])\n",
    "mat = np.array([[1,2],[3,4],[5,6]])\n"
   ]
  },
  {
   "cell_type": "code",
   "execution_count": 48,
   "metadata": {},
   "outputs": [
    {
     "name": "stdout",
     "output_type": "stream",
     "text": [
      "[2 3]\n",
      "--------------\n",
      "[[1 2]\n",
      " [3 4]\n",
      " [5 6]]\n",
      "--------------\n",
      "[[ 2  6]\n",
      " [ 6 12]\n",
      " [10 18]]\n",
      "--------------\n",
      "[ 8 18 28]\n"
     ]
    }
   ],
   "source": [
    "print(vec)\n",
    "print(\"--------------\")\n",
    "print(mat)\n",
    "print(\"--------------\")\n",
    "print(mat*vec)\n",
    "print(\"--------------\")\n",
    "print(mat.dot(vec))"
   ]
  },
  {
   "cell_type": "code",
   "execution_count": 54,
   "metadata": {},
   "outputs": [
    {
     "name": "stdout",
     "output_type": "stream",
     "text": [
      "[ 8 18 28]\n"
     ]
    }
   ],
   "source": [
    "print(np.dot(mat,vec))\n",
    "#print(np.dot(vec,mat)) # Debe haber congurencia en el orden de la matriz y el vector"
   ]
  },
  {
   "cell_type": "code",
   "execution_count": 51,
   "metadata": {},
   "outputs": [
    {
     "name": "stdout",
     "output_type": "stream",
     "text": [
      "(4, 3) (3, 2) [[ 1  2  3]\n",
      " [ 4  5  6]\n",
      " [ 7  8  9]\n",
      " [10 11 12]] [[ 2  3]\n",
      " [ 5  7]\n",
      " [11 13]]\n"
     ]
    }
   ],
   "source": [
    "A = np.array([[1,2,3],[4,5,6],[7,8,9],[10,11,12]])\n",
    "B = np.array([[2,3],[5,7],[11,13]])\n",
    "print(A.shape,B.shape,A,B)"
   ]
  },
  {
   "cell_type": "code",
   "execution_count": 53,
   "metadata": {},
   "outputs": [
    {
     "name": "stdout",
     "output_type": "stream",
     "text": [
      "[[ 1  2  3]\n",
      " [ 4  5  6]\n",
      " [ 7  8  9]\n",
      " [10 11 12]]\n",
      "[[ 2  3]\n",
      " [ 5  7]\n",
      " [11 13]]\n",
      "--------------\n",
      "[[ 45  56]\n",
      " [ 99 125]\n",
      " [153 194]\n",
      " [207 263]]\n"
     ]
    }
   ],
   "source": [
    "print(A)\n",
    "print(B)\n",
    "print(\"--------------\")\n",
    "print(A.dot(B))"
   ]
  },
  {
   "cell_type": "code",
   "execution_count": 56,
   "metadata": {},
   "outputs": [
    {
     "name": "stdout",
     "output_type": "stream",
     "text": [
      "[[ 45  56]\n",
      " [ 99 125]\n",
      " [153 194]\n",
      " [207 263]]\n"
     ]
    }
   ],
   "source": [
    "print(np.matmul(A,B))"
   ]
  },
  {
   "cell_type": "markdown",
   "metadata": {},
   "source": [
    "### Transpuestas\n",
    "$(A\\cdot B)^T = B^T \\cdot A^T$"
   ]
  },
  {
   "cell_type": "code",
   "execution_count": 62,
   "metadata": {},
   "outputs": [
    {
     "name": "stdout",
     "output_type": "stream",
     "text": [
      "[0 1 2 3 4 5 6 7 8 9]\n"
     ]
    }
   ],
   "source": [
    "print(np.arange(10)) # Equinalente a linspace"
   ]
  },
  {
   "cell_type": "markdown",
   "metadata": {},
   "source": [
    "### Tipos de matrices"
   ]
  },
  {
   "cell_type": "code",
   "execution_count": 67,
   "metadata": {},
   "outputs": [
    {
     "name": "stdout",
     "output_type": "stream",
     "text": [
      "[[1 0 0]\n",
      " [0 1 0]\n",
      " [0 0 1]]\n"
     ]
    }
   ],
   "source": [
    "# Identidad\n",
    "print(np.eye(3,dtype=int))"
   ]
  },
  {
   "cell_type": "code",
   "execution_count": 69,
   "metadata": {},
   "outputs": [
    {
     "name": "stdout",
     "output_type": "stream",
     "text": [
      "[[ 1  0  1]\n",
      " [ 0  1  1]\n",
      " [-1  1  1]]\n",
      "[[ 0.  1. -1.]\n",
      " [-1.  2. -1.]\n",
      " [ 1. -1.  1.]]\n",
      "[[1. 0. 0.]\n",
      " [0. 1. 0.]\n",
      " [0. 0. 1.]]\n"
     ]
    }
   ],
   "source": [
    "# Inversas\n",
    "C = np.array([[1,0,1],[0,1,1],[-1,1,1]])\n",
    "print(C)\n",
    "CInv = np.linalg.inv(C)\n",
    "print(CInv)\n",
    "print(C.dot(CInv))"
   ]
  },
  {
   "cell_type": "markdown",
   "metadata": {},
   "source": [
    "### Sistemas de ecuaciones"
   ]
  },
  {
   "cell_type": "code",
   "execution_count": 76,
   "metadata": {},
   "outputs": [],
   "source": [
    "# %matplotlib notebook \n",
    "# Permite interactuar con la grafica - on-off\n",
    "x = np.arange(-6,6)\n",
    "y1 = 7*x+2\n",
    "y2 = 3*x+5\n"
   ]
  },
  {
   "cell_type": "code",
   "execution_count": 79,
   "metadata": {},
   "outputs": [
    {
     "data": {
      "image/png": "[encoded data removed]",
      "text/plain": [
       "<Figure size 432x288 with 1 Axes>"
      ]
     },
     "metadata": {
      "needs_background": "light"
     },
     "output_type": "display_data"
    }
   ],
   "source": [
    "plt.figure(1)\n",
    "plt.plot(x,y1,color=\"r\",marker=\".\",)\n",
    "plt.plot(x,y2,linestyle=\"dotted\",linewidth=1)\n",
    "plt.grid()\n",
    "plt.axvline(x=0, color=\"gray\")\n",
    "plt.axhline(y=0, color=\"gray\")\n",
    "plt.title(\"Sistema lineal 2x2 con solución\")\n",
    "plt.xlabel(\"x\")\n",
    "plt.ylabel(\"y\")\n",
    "plt.show()\n"
   ]
  },
  {
   "cell_type": "markdown",
   "metadata": {},
   "source": [
    "### Graficar vectores"
   ]
  },
  {
   "cell_type": "code",
   "execution_count": 14,
   "metadata": {},
   "outputs": [],
   "source": [
    "v1 = np.array([3,5])\n",
    "v2 = np.array([3,2])"
   ]
  },
  {
   "cell_type": "code",
   "execution_count": 38,
   "metadata": {},
   "outputs": [],
   "source": [
    "def graphVec(vec,color='r', alpha=1):\n",
    "    plt.figure(1)\n",
    "    plt.axvline(x=0, color=\"gray\")\n",
    "    plt.axhline(y=0, color=\"gray\")\n",
    "    plt.quiver(0,0,vec[0],vec[1],angles='xy', scale_units='xy', scale=1,color=color, alpha=alpha)\n"
   ]
  },
  {
   "cell_type": "code",
   "execution_count": 39,
   "metadata": {},
   "outputs": [
    {
     "data": {
      "image/png": "[encoded data removed]",
      "text/plain": [
       "<Figure size 432x288 with 1 Axes>"
      ]
     },
     "metadata": {
      "needs_background": "light"
     },
     "output_type": "display_data"
    }
   ],
   "source": [
    "#%run \"dir/nombre_notebook.ipynb\" Permite llamar funciones que esten en otro notebooks\n",
    "graphVec(v1,'b',0.5)\n",
    "plt.xlim(-1,6)\n",
    "plt.ylim(-1,6)\n",
    "plt.grid()"
   ]
  },
  {
   "cell_type": "code",
   "execution_count": 40,
   "metadata": {},
   "outputs": [],
   "source": [
    "from mpl_toolkits.mplot3d import Axes3D"
   ]
  },
  {
   "cell_type": "code",
   "execution_count": 44,
   "metadata": {},
   "outputs": [
    {
     "data": {
      "image/png": "[encoded data removed]",
      "text/plain": [
       "<Figure size 432x288 with 1 Axes>"
      ]
     },
     "metadata": {
      "needs_background": "light"
     },
     "output_type": "display_data"
    }
   ],
   "source": [
    "v3 = np.array([1,0,0])\n",
    "v4 = np.array([2,-3,0])\n",
    "\n",
    "fig = plt.figure()\n",
    "ax = fig.add_subplot(111, projection='3d')\n",
    "for i in range(-10,10):\n",
    "    for j in range(-10,10):\n",
    "        ax.scatter(v3[0]*i+v4[0]*j,v3[1]*i+v4[1]*j,v3[2]*i+v4[2]*j,marker='.',color='orange')\n"
   ]
  },
  {
   "cell_type": "markdown",
   "metadata": {},
   "source": [
    "### Normas"
   ]
  },
  {
   "cell_type": "code",
   "execution_count": 67,
   "metadata": {},
   "outputs": [],
   "source": [
    "# Color pallete\n",
    "import seaborn as sns\n"
   ]
  },
  {
   "cell_type": "code",
   "execution_count": 51,
   "metadata": {},
   "outputs": [
    {
     "name": "stdout",
     "output_type": "stream",
     "text": [
      "5.830951894845301\n",
      "3.605551275463989\n",
      "9.219544457292887\n",
      "True\n"
     ]
    }
   ],
   "source": [
    "\n",
    "print(np.linalg.norm(v1))\n",
    "print(np.linalg.norm(v2))\n",
    "print(np.linalg.norm(v1+v2))\n",
    "print(np.linalg.norm(v1+v2) <= np.linalg.norm(v1)+np.linalg.norm(v2))"
   ]
  },
  {
   "cell_type": "markdown",
   "metadata": {},
   "source": [
    "$L_0 := x_i\\neq 0$\n",
    "\n",
    "$L_1 := \\sum_i |x_i|$\n",
    "\n",
    "$L_2 := \\sqrt{\\sum_i x_i^2}$\n",
    "\n",
    "$L_2^2 := X\\cdot X^T$\n",
    "\n",
    "$L_{\\infty} := max(|x_i|)$"
   ]
  },
  {
   "cell_type": "code",
   "execution_count": 57,
   "metadata": {},
   "outputs": [
    {
     "name": "stdout",
     "output_type": "stream",
     "text": [
      "[1 2 0 4 0 6]\n",
      "4.0\n",
      "13.0\n",
      "7.54983443527075\n",
      "7.54983443527075\n",
      "6.0\n"
     ]
    }
   ],
   "source": [
    "vec = np.array([1,2,0,4,0,6])\n",
    "print(vec)\n",
    "print(np.linalg.norm(vec,ord=0))\n",
    "print(np.linalg.norm(vec,1))\n",
    "print(np.linalg.norm(vec,2))\n",
    "print(vec.dot(vec.T)**0.5)\n",
    "print(np.linalg.norm(vec,ord=np.inf))\n"
   ]
  },
  {
   "cell_type": "markdown",
   "metadata": {},
   "source": [
    "### Ortogonalidad"
   ]
  },
  {
   "cell_type": "code",
   "execution_count": 70,
   "metadata": {},
   "outputs": [
    {
     "data": {
      "image/png": "[encoded data removed]",
      "text/plain": [
       "<Figure size 432x288 with 1 Axes>"
      ]
     },
     "metadata": {
      "needs_background": "light"
     },
     "output_type": "display_data"
    }
   ],
   "source": [
    "v5 = np.array([2,2])\n",
    "v6 = np.array([2,-2])\n",
    "\n",
    "plt.quiver([0,0],[0,0],[v5[0],v6[0]],[v5[1],v6[1]],angles='xy',scale_units='xy',scale=1,color=sns.color_palette())\n",
    "plt.axvline(x=0, color=\"gray\")\n",
    "plt.axhline(y=0, color=\"gray\")\n",
    "plt.xlim(-3,3)\n",
    "plt.ylim(-3,3)\n",
    "plt.grid()\n",
    "plt.show()"
   ]
  },
  {
   "cell_type": "code",
   "execution_count": 72,
   "metadata": {},
   "outputs": [
    {
     "name": "stdout",
     "output_type": "stream",
     "text": [
      "0 0\n"
     ]
    }
   ],
   "source": [
    "print(v5.dot(v6),v6.dot(v5))"
   ]
  },
  {
   "cell_type": "code",
   "execution_count": 75,
   "metadata": {},
   "outputs": [
    {
     "name": "stdout",
     "output_type": "stream",
     "text": [
      "4.0\n"
     ]
    }
   ],
   "source": [
    "print(np.linalg.det(np.diag(np.array([2,2]))))"
   ]
  },
  {
   "cell_type": "code",
   "execution_count": 82,
   "metadata": {},
   "outputs": [
    {
     "name": "stdout",
     "output_type": "stream",
     "text": [
      "0\n",
      "0\n",
      "0\n"
     ]
    }
   ],
   "source": [
    "v = np.array([7,-7,3])\n",
    "u = np.array([1,1,0])\n",
    "w = np.array([0,0,1])\n",
    "print(v.dot(u.T))\n",
    "print(u.dot(w.T))\n",
    "print(u.dot(v.T))"
   ]
  }
 ],
 "metadata": {
  "interpreter": {
   "hash": "916dbcbb3f70747c44a77c7bcd40155683ae19c65e1c03b4aa3499c5328201f1"
  },
  "kernelspec": {
   "display_name": "Python 3.8.10 64-bit",
   "language": "python",
   "name": "python3"
  },
  "language_info": {
   "codemirror_mode": {
    "name": "ipython",
    "version": 3
   },
   "file_extension": ".py",
   "mimetype": "text/x-python",
   "name": "python",
   "nbconvert_exporter": "python",
   "pygments_lexer": "ipython3",
   "version": "3.8.10"
  },
  "orig_nbformat": 4
 },
 "nbformat": 4,
 "nbformat_minor": 2
}
