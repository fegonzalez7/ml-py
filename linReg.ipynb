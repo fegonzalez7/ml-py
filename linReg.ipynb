{
 "cells": [
  {
   "cell_type": "code",
   "execution_count": 1,
   "metadata": {},
   "outputs": [],
   "source": [
    "import numpy as np\n",
    "import matplotlib.pyplot as plt"
   ]
  },
  {
   "cell_type": "code",
   "execution_count": 2,
   "metadata": {},
   "outputs": [],
   "source": [
    "def est_param(x,y):\n",
    "    n = np.size(x)\n",
    "    # mean x and y\n",
    "    x_mean, y_mean = np.mean(x), np.mean(y)\n",
    "\n",
    "    # compute sum xy and xx\n",
    "    sum_xy = np.sum((x-x_mean)*(y-y_mean))\n",
    "    sum_xx = np.sum(x*(x-x_mean))\n",
    "\n",
    "    # reg coef\n",
    "    b_1 = sum_xy / sum_xx\n",
    "    b_0 = y_mean - b_1*x_mean\n",
    "\n",
    "    return (b_0,b_1)"
   ]
  },
  {
   "cell_type": "code",
   "execution_count": 3,
   "metadata": {},
   "outputs": [],
   "source": [
    "def plot_lin_reg(x,y,b):\n",
    "    plt.scatter(x,y, color=\"r\", marker=\"x\", s=30)\n",
    "    y_pred = b[0] + b[1]*x\n",
    "    plt.plot(x,y_pred, color=\"b\")\n",
    "    plt.xlabel('x')\n",
    "    plt.ylabel('y')\n",
    "    plt.show()\n"
   ]
  },
  {
   "cell_type": "code",
   "execution_count": 5,
   "metadata": {},
   "outputs": [
    {
     "name": "stdout",
     "output_type": "stream",
     "text": [
      "(1.5, 0.9)\n"
     ]
    },
    {
     "data": {
      "image/png": "[encoded data removed]",
      "text/plain": [
       "<Figure size 432x288 with 1 Axes>"
      ]
     },
     "metadata": {
      "needs_background": "light"
     },
     "output_type": "display_data"
    }
   ],
   "source": [
    "def main():\n",
    "    x = np.array([1,2,3,4,5])\n",
    "    y = np.array([2,3,5,6,5])\n",
    "    b = est_param(x,y)\n",
    "    print(b)\n",
    "    plot_lin_reg(x,y,b)\n",
    "\n",
    "if __name__ == '__main__':\n",
    "    main()"
   ]
  }
 ],
 "metadata": {
  "interpreter": {
   "hash": "916dbcbb3f70747c44a77c7bcd40155683ae19c65e1c03b4aa3499c5328201f1"
  },
  "kernelspec": {
   "display_name": "Python 3.8.10 64-bit",
   "language": "python",
   "name": "python3"
  },
  "language_info": {
   "codemirror_mode": {
    "name": "ipython",
    "version": 3
   },
   "file_extension": ".py",
   "mimetype": "text/x-python",
   "name": "python",
   "nbconvert_exporter": "python",
   "pygments_lexer": "ipython3",
   "version": "3.8.10"
  },
  "orig_nbformat": 4
 },
 "nbformat": 4,
 "nbformat_minor": 2
}
